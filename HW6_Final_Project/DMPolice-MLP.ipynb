{
 "cells": [
  {
   "cell_type": "markdown",
   "metadata": {},
   "source": [
    "# 方法四：Multilayer Perceptron"
   ]
  },
  {
   "cell_type": "markdown",
   "metadata": {},
   "source": [
    "## PySpark版"
   ]
  },
  {
   "cell_type": "markdown",
   "metadata": {},
   "source": [
    "### 資料前處理"
   ]
  },
  {
   "cell_type": "code",
   "execution_count": 1,
   "metadata": {},
   "outputs": [],
   "source": [
    "from pyspark.sql import DataFrame"
   ]
  },
  {
   "cell_type": "code",
   "execution_count": 2,
   "metadata": {},
   "outputs": [],
   "source": [
    "# Read CSV\n",
    "spark_df = spark.read.csv('out_police.csv', header=True)\n",
    "# Drop Unused Column\n",
    "spark_df = spark_df.drop(spark_df.columns[0])"
   ]
  },
  {
   "cell_type": "code",
   "execution_count": 3,
   "metadata": {},
   "outputs": [],
   "source": [
    "from pyspark.sql.types import *"
   ]
  },
  {
   "cell_type": "code",
   "execution_count": 4,
   "metadata": {},
   "outputs": [],
   "source": [
    "# Convert columns types\n",
    "def convertColumn(df, colNames, newType):\n",
    "    for name in colNames:\n",
    "        df = df.withColumn(name, df[name].astype(newType))\n",
    "    return df\n",
    "\n",
    "\n",
    "spark_df = convertColumn(spark_df, spark_df.columns[1:], IntegerType())"
   ]
  },
  {
   "cell_type": "code",
   "execution_count": 5,
   "metadata": {},
   "outputs": [],
   "source": [
    "from pyspark.ml.feature import VectorAssembler"
   ]
  },
  {
   "cell_type": "code",
   "execution_count": 6,
   "metadata": {},
   "outputs": [],
   "source": [
    "# Vectorize Features\n",
    "vecAssembler = VectorAssembler(inputCols=spark_df.columns[1:], outputCol=\"features\")\n",
    "spark_df = vecAssembler.transform(spark_df)"
   ]
  },
  {
   "cell_type": "code",
   "execution_count": 7,
   "metadata": {},
   "outputs": [],
   "source": [
    "from pyspark.ml.feature import StringIndexer"
   ]
  },
  {
   "cell_type": "code",
   "execution_count": 8,
   "metadata": {},
   "outputs": [],
   "source": [
    "# Encode Labels\n",
    "stringIndexer = StringIndexer(inputCol='raceethnicity', outputCol='label', handleInvalid='error')\n",
    "model = stringIndexer.fit(spark_df)\n",
    "td = model.transform(spark_df)"
   ]
  },
  {
   "cell_type": "code",
   "execution_count": 9,
   "metadata": {},
   "outputs": [],
   "source": [
    "# Split Data\n",
    "train, test = td.randomSplit(weights=[0.75, 0.25])"
   ]
  },
  {
   "cell_type": "markdown",
   "metadata": {},
   "source": [
    "### 訓練Model"
   ]
  },
  {
   "cell_type": "code",
   "execution_count": 10,
   "metadata": {},
   "outputs": [],
   "source": [
    "from pyspark.ml.classification import MultilayerPerceptronClassifier"
   ]
  },
  {
   "cell_type": "code",
   "execution_count": 11,
   "metadata": {},
   "outputs": [],
   "source": [
    "# Training\n",
    "mlp = MultilayerPerceptronClassifier(featuresCol=\"features\", labelCol=\"label\", predictionCol=\"prediction\", maxIter=100, layers=[8, 12, 3, 7], solver='gd')\n",
    "model = mlp.fit(train)"
   ]
  },
  {
   "cell_type": "code",
   "execution_count": 12,
   "metadata": {},
   "outputs": [
    {
     "data": {
      "text/plain": [
       "[8, 12, 3, 7]"
      ]
     },
     "execution_count": 12,
     "metadata": {},
     "output_type": "execute_result"
    }
   ],
   "source": [
    "# Input Layer: 8 (features), Hidden Layer: 12 & 3, Output Layer: 7 (label)\n",
    "model.layers"
   ]
  },
  {
   "cell_type": "code",
   "execution_count": 13,
   "metadata": {},
   "outputs": [
    {
     "data": {
      "text/plain": [
       "DenseVector([-0.7952, 0.2686, 0.177, -0.0032, -0.8001, -0.3183, -0.5332, -0.6912, 0.6253, 0.187, -0.0041, -0.3147, 0.3494, -0.0279, -0.3729, -0.5595, -0.761, 0.6962, 0.0336, 0.2336, -0.8372, 0.0031, 0.736, 0.0566, -0.6806, 0.1422, 0.0598, 0.0403, -0.3021, 0.546, 0.433, -0.8364, 0.6478, 0.5327, -0.3254, 0.0129, 0.3963, 0.7009, 0.5205, 0.7365, -0.8119, -0.7506, -0.1358, 0.7848, -0.4064, 0.4195, 0.1545, 0.0644, -0.354, 0.0367, -0.428, -0.4769, -0.4192, -0.8333, -0.6212, 0.5178, -0.5443, 0.6955, 0.1465, -0.3619, -0.5296, -0.1953, 0.2037, -0.1685, -0.2158, -0.0635, 0.3703, -0.6914, -0.753, 0.1671, -0.6528, 0.1887, -0.733, -0.4281, -0.6369, 0.1578, 0.0167, 0.5138, -0.2622, 0.704, -0.5315, 0.5268, 0.518, -0.636, -0.2656, 0.7127, -0.0801, 0.2159, -0.5013, 0.077, -0.3856, 0.2305, -0.7507, 0.3228, -0.084, 0.0767, -0.1616, 0.7034, -0.688, -0.7715, -0.5523, 0.6135, 0.1901, -0.5022, 0.5926, 0.7525, 0.2548, -0.7233, -0.4635, -0.5636, -0.1982, 0.5346, -0.4553, 0.4572, 0.0864, -0.2842, 0.5582, 0.2361, 0.0646, 0.827, -0.3743, 0.5847, -0.2226, 0.6435, -0.2466, 0.5391, -0.1365, 0.4843, -0.2364, -0.5166, -0.6125, -0.2586, -0.5317, 0.664, 0.4583, -0.8342, 0.187, -0.4193, -0.3437, -0.1536, 0.6145, 0.1639, -0.2086, 0.3362, -0.3798, -0.2415, 0.7116, -0.5911, 0.3838, -0.5434, 0.041, 1.3155, 0.2769, -1.2269, -0.3866, 1.1725, -0.1554, -1.2238, 0.8521, -0.5869, -0.6399, 1.8616, 0.7574, 0.3413, 0.1119, -0.9192, -0.5745, 0.3917, 0.4538, 0.0857, 0.0046, 0.6303, 0.1741, -0.8607, -0.4061])"
      ]
     },
     "execution_count": 13,
     "metadata": {},
     "output_type": "execute_result"
    }
   ],
   "source": [
    "model.weights"
   ]
  },
  {
   "cell_type": "markdown",
   "metadata": {},
   "source": [
    "### 測試Model"
   ]
  },
  {
   "cell_type": "code",
   "execution_count": 14,
   "metadata": {},
   "outputs": [],
   "source": [
    "from pyspark.ml.evaluation import MulticlassClassificationEvaluator"
   ]
  },
  {
   "cell_type": "code",
   "execution_count": 15,
   "metadata": {},
   "outputs": [
    {
     "name": "stdout",
     "output_type": "stream",
     "text": [
      "Accuracy: 53.2520325203252 %\n"
     ]
    }
   ],
   "source": [
    "evaluator = MulticlassClassificationEvaluator(predictionCol='prediction', labelCol='label', metricName='accuracy')\n",
    "print('Accuracy:', evaluator.evaluate(model.transform(test)) * 100, '%')"
   ]
  }
 ],
 "metadata": {
  "kernelspec": {
   "display_name": "Python 3",
   "language": "python",
   "name": "python3"
  },
  "language_info": {
   "codemirror_mode": {
    "name": "ipython",
    "version": 3
   },
   "file_extension": ".py",
   "mimetype": "text/x-python",
   "name": "python",
   "nbconvert_exporter": "python",
   "pygments_lexer": "ipython3",
   "version": "3.6.1"
  }
 },
 "nbformat": 4,
 "nbformat_minor": 2
}
