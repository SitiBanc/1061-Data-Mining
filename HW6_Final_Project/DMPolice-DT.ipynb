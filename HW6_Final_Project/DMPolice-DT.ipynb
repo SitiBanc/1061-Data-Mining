{
 "cells": [
  {
   "cell_type": "markdown",
   "metadata": {},
   "source": [
    "# 方法一：Decision Tree"
   ]
  },
  {
   "cell_type": "markdown",
   "metadata": {},
   "source": [
    "## Scikit-Learn 版（AdaBoost + Decision Tree Classifier）"
   ]
  },
  {
   "cell_type": "code",
   "execution_count": 1,
   "metadata": {
    "scrolled": true
   },
   "outputs": [
    {
     "name": "stdout",
     "output_type": "stream",
     "text": [
      "Accuracy: 0.493177387914\n"
     ]
    },
    {
     "data": {
      "image/png": "[encoded data removed]",
      "text/plain": [
       "<matplotlib.figure.Figure at 0x7f8226c6beb8>"
      ]
     },
     "metadata": {},
     "output_type": "display_data"
    }
   ],
   "source": [
    "import pandas as pd\n",
    "import numpy as np\n",
    "from collections import Counter\n",
    "from sklearn.model_selection import train_test_split\n",
    "from sklearn.ensemble import AdaBoostClassifier\n",
    "from sklearn.tree import DecisionTreeClassifier\n",
    "from sklearn import metrics\n",
    "import matplotlib.pyplot as plt\n",
    "\n",
    "# 1.read data\n",
    "df_2015 = pd.DataFrame(pd.read_csv('the-counted-2015.csv'))\n",
    "df_2016 = pd.DataFrame(pd.read_csv('the-counted-2016.csv'))\n",
    "df = pd.concat([df_2015, df_2016], ignore_index = True)\n",
    "\n",
    "# 2.處理資料\n",
    "df = df.drop(['uid', 'name', 'day', 'year', 'streetaddress'], 1)\n",
    "df = df.drop(df.index[np.where((df['raceethnicity'] == 'Unknown') | (df['age'] == 'Unknown') | (df['armed'] == 'Unknown') | (df['lawenforcementagency'] == 'Unknown'))])\n",
    "\n",
    "# replace data to int\n",
    "df = df.replace(['Male', 'Female', 'Non-conforming', '40s'], [0, 1, 0, 40])\n",
    "df['month'] = df['month'].replace(list(Counter(df['month'])), np.arange(len(Counter(df['month']))) + 1)\n",
    "df['city'] = df['city'].replace(list(Counter(df['city'])), np.arange(len(Counter(df['city']))))\n",
    "df['state'] = df['state'].replace(list(Counter(df['state'])), np.arange(len(Counter(df['state']))))\n",
    "df['classification'] = df['classification'].replace(list(Counter(df['classification'])), np.arange(len(Counter(df['classification']))))\n",
    "df['lawenforcementagency'] = df['lawenforcementagency'].replace(list(Counter(df['lawenforcementagency'])), np.arange(len(Counter(df['lawenforcementagency']))))\n",
    "df['armed'] = df['armed'].replace(list(Counter(df['armed'])), np.arange(len(Counter(df['armed']))))\n",
    "\n",
    "# target value\n",
    "cls = df['raceethnicity']\n",
    "df = df.drop(['raceethnicity'], 1)\n",
    "df.insert(loc = 0, column = 'raceethnicity', value = cls)\n",
    "\n",
    "# save as csv\n",
    "df.to_csv('out_police.csv')\n",
    "\n",
    "# 3.split train, test data\n",
    "x_train, x_test, y_train, y_test = train_test_split(df.iloc[:, 1:], df.iloc[:, 0], test_size = int(len(df)*0.25))\n",
    "\n",
    "# 4.train a model\n",
    "clf = AdaBoostClassifier(DecisionTreeClassifier(max_depth = 5), n_estimators = 100)\n",
    "clf.fit(x_train, y_train)\n",
    "importances = clf.feature_importances_\n",
    "predict = clf.predict(x_test)\n",
    "\n",
    "# 5.calaulate accuracy, precision, recall\n",
    "accuracy = metrics.accuracy_score(y_test, predict)\n",
    "print('Accuracy:', accuracy)\n",
    "\n",
    "# 6.plot 20 important features\n",
    "std = np.std([tree.feature_importances_ for tree in clf.estimators_], axis = 0)\n",
    "indices = np.argsort(importances)[::-1]\n",
    "feature = []\n",
    "for i in range(len(indices)):\n",
    "    feature.append(list(df)[indices[i]+1])\n",
    "plt.bar(range(len(indices)), importances[indices], yerr = std[indices], align = 'center')\n",
    "plt.title('Feature importances')\n",
    "plt.xticks(range(len(indices)), feature, rotation = 'vertical')\n",
    "plt.xlim([-1, len(indices)])\n",
    "plt.show()"
   ]
  },
  {
   "cell_type": "markdown",
   "metadata": {},
   "source": [
    "### 調整參數"
   ]
  },
  {
   "cell_type": "code",
   "execution_count": 2,
   "metadata": {
    "scrolled": true
   },
   "outputs": [
    {
     "name": "stdout",
     "output_type": "stream",
     "text": [
      "Accuracy: 54.5808966862 %\n"
     ]
    },
    {
     "data": {
      "image/png": "[encoded data removed]",
      "text/plain": [
       "<matplotlib.figure.Figure at 0x7f827048e208>"
      ]
     },
     "metadata": {},
     "output_type": "display_data"
    }
   ],
   "source": [
    "# Tuning\n",
    "# 4. train a model\n",
    "clf = AdaBoostClassifier(DecisionTreeClassifier(max_depth=8), n_estimators=100, learning_rate=0.6)\n",
    "clf.fit(x_train, y_train)\n",
    "importances = clf.feature_importances_\n",
    "predict = clf.predict(x_test)\n",
    "\n",
    "# 5. calaulate accuracy, precision, recall\n",
    "accuracy = metrics.accuracy_score(y_test, predict)\n",
    "print('Accuracy:', accuracy * 100, '%')\n",
    "\n",
    "# 6. plot 20 important features\n",
    "std = np.std([tree.feature_importances_ for tree in clf.estimators_], axis=0)\n",
    "indices = np.argsort(importances)[::-1]\n",
    "feature = []\n",
    "for i in range(len(indices)):\n",
    "    feature.append(list(df)[indices[i] + 1])\n",
    "plt.bar(range(len(indices)), importances[indices], yerr=std[indices], align='center')\n",
    "plt.title('Feature importances')\n",
    "plt.xticks(range(len(indices)), feature, rotation='vertical')\n",
    "plt.xlim([-1, len(indices)])\n",
    "plt.show()"
   ]
  },
  {
   "cell_type": "markdown",
   "metadata": {},
   "source": [
    "## PySpark版"
   ]
  },
  {
   "cell_type": "markdown",
   "metadata": {},
   "source": [
    "###  資料前處理"
   ]
  },
  {
   "cell_type": "code",
   "execution_count": 1,
   "metadata": {},
   "outputs": [],
   "source": [
    "from pyspark.sql import DataFrame"
   ]
  },
  {
   "cell_type": "code",
   "execution_count": 2,
   "metadata": {},
   "outputs": [
    {
     "ename": "NameError",
     "evalue": "name 'spark' is not defined",
     "output_type": "error",
     "traceback": [
      "\u001b[0;31m---------------------------------------------------------------------------\u001b[0m",
      "\u001b[0;31mNameError\u001b[0m                                 Traceback (most recent call last)",
      "\u001b[0;32m<ipython-input-2-3b16cc6f4f94>\u001b[0m in \u001b[0;36m<module>\u001b[0;34m()\u001b[0m\n\u001b[1;32m      1\u001b[0m \u001b[0;31m# Read CSV\u001b[0m\u001b[0;34m\u001b[0m\u001b[0;34m\u001b[0m\u001b[0m\n\u001b[0;32m----> 2\u001b[0;31m \u001b[0mspark_df\u001b[0m \u001b[0;34m=\u001b[0m \u001b[0mspark\u001b[0m\u001b[0;34m.\u001b[0m\u001b[0mread\u001b[0m\u001b[0;34m.\u001b[0m\u001b[0mcsv\u001b[0m\u001b[0;34m(\u001b[0m\u001b[0;34m'out_police.csv'\u001b[0m\u001b[0;34m,\u001b[0m \u001b[0mheader\u001b[0m\u001b[0;34m=\u001b[0m\u001b[0;32mTrue\u001b[0m\u001b[0;34m)\u001b[0m\u001b[0;34m\u001b[0m\u001b[0m\n\u001b[0m",
      "\u001b[0;31mNameError\u001b[0m: name 'spark' is not defined"
     ]
    }
   ],
   "source": [
    "# Read CSV\n",
    "spark_df = spark.read.csv('out_police.csv', header=True)"
   ]
  },
  {
   "cell_type": "code",
   "execution_count": 3,
   "metadata": {},
   "outputs": [],
   "source": [
    "# Drop Unused Column\n",
    "spark_df = spark_df.drop(spark_df.columns[0])"
   ]
  },
  {
   "cell_type": "code",
   "execution_count": 4,
   "metadata": {},
   "outputs": [],
   "source": [
    "from pyspark.sql.types import *"
   ]
  },
  {
   "cell_type": "code",
   "execution_count": 5,
   "metadata": {},
   "outputs": [
    {
     "data": {
      "text/plain": [
       "[('raceethnicity', 'string'),\n",
       " ('age', 'int'),\n",
       " ('gender', 'int'),\n",
       " ('month', 'int'),\n",
       " ('city', 'int'),\n",
       " ('state', 'int'),\n",
       " ('classification', 'int'),\n",
       " ('lawenforcementagency', 'int'),\n",
       " ('armed', 'int')]"
      ]
     },
     "execution_count": 5,
     "metadata": {},
     "output_type": "execute_result"
    }
   ],
   "source": [
    "# Convert columns types\n",
    "def convertColumn(df, colNames, newType):\n",
    "    for name in colNames:\n",
    "        df = df.withColumn(name, df[name].astype(newType))\n",
    "    return df\n",
    "\n",
    "\n",
    "spark_df = convertColumn(spark_df, spark_df.columns[1:], IntegerType())\n",
    "spark_df.dtypes"
   ]
  },
  {
   "cell_type": "code",
   "execution_count": 6,
   "metadata": {},
   "outputs": [],
   "source": [
    "from pyspark.ml.feature import VectorAssembler"
   ]
  },
  {
   "cell_type": "code",
   "execution_count": 7,
   "metadata": {},
   "outputs": [],
   "source": [
    "# Vectorize Features\n",
    "vecAssembler = VectorAssembler(inputCols=['age','gender','month','city','state','classification','lawenforcementagency','armed'], outputCol=\"features\")\n",
    "spark_df = vecAssembler.transform(spark_df)"
   ]
  },
  {
   "cell_type": "code",
   "execution_count": 8,
   "metadata": {},
   "outputs": [],
   "source": [
    "from pyspark.ml.feature import StringIndexer"
   ]
  },
  {
   "cell_type": "code",
   "execution_count": 9,
   "metadata": {},
   "outputs": [],
   "source": [
    "# Encode Labels\n",
    "stringIndexer = StringIndexer(inputCol='raceethnicity', outputCol='label', handleInvalid='error')\n",
    "model = stringIndexer.fit(spark_df)\n",
    "td = model.transform(spark_df)"
   ]
  },
  {
   "cell_type": "code",
   "execution_count": 10,
   "metadata": {},
   "outputs": [],
   "source": [
    "# Split Data\n",
    "train, test = td.randomSplit(weights=[0.75, 0.25])"
   ]
  },
  {
   "cell_type": "markdown",
   "metadata": {},
   "source": [
    "### 訓練Model"
   ]
  },
  {
   "cell_type": "code",
   "execution_count": 11,
   "metadata": {},
   "outputs": [],
   "source": [
    "from pyspark.ml.classification import DecisionTreeClassifier"
   ]
  },
  {
   "cell_type": "code",
   "execution_count": 12,
   "metadata": {},
   "outputs": [],
   "source": [
    "# Training\n",
    "dt = DecisionTreeClassifier(maxDepth=6, featuresCol='features', labelCol='label')\n",
    "model = dt.fit(train)"
   ]
  },
  {
   "cell_type": "code",
   "execution_count": 13,
   "metadata": {},
   "outputs": [
    {
     "name": "stdout",
     "output_type": "stream",
     "text": [
      "DecisionTreeClassificationModel (uid=DecisionTreeClassifier_41c6befb27ced9e17183) of depth 6 with 95 nodes\n",
      "  If (feature 0 <= 43.0)\n",
      "   If (feature 4 <= 18.0)\n",
      "    If (feature 4 <= 4.0)\n",
      "     If (feature 4 <= 0.0)\n",
      "      If (feature 0 <= 25.0)\n",
      "       If (feature 5 <= 1.0)\n",
      "        Predict: 1.0\n",
      "       Else (feature 5 > 1.0)\n",
      "        Predict: 0.0\n",
      "      Else (feature 0 > 25.0)\n",
      "       If (feature 6 <= 491.0)\n",
      "        Predict: 1.0\n",
      "       Else (feature 6 > 491.0)\n",
      "        Predict: 0.0\n",
      "     Else (feature 4 > 0.0)\n",
      "      If (feature 3 <= 211.0)\n",
      "       If (feature 4 <= 3.0)\n",
      "        Predict: 0.0\n",
      "       Else (feature 4 > 3.0)\n",
      "        Predict: 0.0\n",
      "      Else (feature 3 > 211.0)\n",
      "       If (feature 6 <= 162.0)\n",
      "        Predict: 3.0\n",
      "       Else (feature 6 > 162.0)\n",
      "        Predict: 0.0\n",
      "    Else (feature 4 > 4.0)\n",
      "     If (feature 4 <= 5.0)\n",
      "      If (feature 6 <= 48.0)\n",
      "       If (feature 2 <= 4.0)\n",
      "        Predict: 2.0\n",
      "       Else (feature 2 > 4.0)\n",
      "        Predict: 2.0\n",
      "      Else (feature 6 > 48.0)\n",
      "       If (feature 1 <= 0.0)\n",
      "        Predict: 2.0\n",
      "       Else (feature 1 > 0.0)\n",
      "        Predict: 1.0\n",
      "     Else (feature 4 > 5.0)\n",
      "      If (feature 4 <= 17.0)\n",
      "       If (feature 4 <= 12.0)\n",
      "        Predict: 0.0\n",
      "       Else (feature 4 > 12.0)\n",
      "        Predict: 0.0\n",
      "      Else (feature 4 > 17.0)\n",
      "       If (feature 6 <= 534.0)\n",
      "        Predict: 0.0\n",
      "       Else (feature 6 > 534.0)\n",
      "        Predict: 2.0\n",
      "   Else (feature 4 > 18.0)\n",
      "    If (feature 3 <= 608.0)\n",
      "     If (feature 3 <= 105.0)\n",
      "      If (feature 0 <= 27.0)\n",
      "       If (feature 3 <= 86.0)\n",
      "        Predict: 1.0\n",
      "       Else (feature 3 > 86.0)\n",
      "        Predict: 1.0\n",
      "      Else (feature 0 > 27.0)\n",
      "       If (feature 0 <= 41.0)\n",
      "        Predict: 1.0\n",
      "       Else (feature 0 > 41.0)\n",
      "        Predict: 0.0\n",
      "     Else (feature 3 > 105.0)\n",
      "      If (feature 6 <= 294.0)\n",
      "       If (feature 3 <= 251.0)\n",
      "        Predict: 0.0\n",
      "       Else (feature 3 > 251.0)\n",
      "        Predict: 1.0\n",
      "      Else (feature 6 > 294.0)\n",
      "       If (feature 2 <= 10.0)\n",
      "        Predict: 0.0\n",
      "       Else (feature 2 > 10.0)\n",
      "        Predict: 1.0\n",
      "    Else (feature 3 > 608.0)\n",
      "     If (feature 0 <= 25.0)\n",
      "      If (feature 2 <= 3.0)\n",
      "       If (feature 4 <= 27.0)\n",
      "        Predict: 0.0\n",
      "       Else (feature 4 > 27.0)\n",
      "        Predict: 1.0\n",
      "      Else (feature 2 > 3.0)\n",
      "       If (feature 4 <= 24.0)\n",
      "        Predict: 1.0\n",
      "       Else (feature 4 > 24.0)\n",
      "        Predict: 0.0\n",
      "     Else (feature 0 > 25.0)\n",
      "      If (feature 7 <= 5.0)\n",
      "       If (feature 6 <= 657.0)\n",
      "        Predict: 0.0\n",
      "       Else (feature 6 > 657.0)\n",
      "        Predict: 0.0\n",
      "      Else (feature 7 > 5.0)\n",
      "       Predict: 1.0\n",
      "  Else (feature 0 > 43.0)\n",
      "   If (feature 6 <= 9.0)\n",
      "    If (feature 0 <= 49.0)\n",
      "     Predict: 2.0\n",
      "    Else (feature 0 > 49.0)\n",
      "     If (feature 2 <= 7.0)\n",
      "      Predict: 3.0\n",
      "     Else (feature 2 > 7.0)\n",
      "      If (feature 7 <= 4.0)\n",
      "       If (feature 0 <= 55.0)\n",
      "        Predict: 0.0\n",
      "       Else (feature 0 > 55.0)\n",
      "        Predict: 0.0\n",
      "      Else (feature 7 > 4.0)\n",
      "       Predict: 1.0\n",
      "   Else (feature 6 > 9.0)\n",
      "    If (feature 3 <= 608.0)\n",
      "     If (feature 5 <= 0.0)\n",
      "      If (feature 3 <= 68.0)\n",
      "       Predict: 1.0\n",
      "      Else (feature 3 > 68.0)\n",
      "       If (feature 6 <= 580.0)\n",
      "        Predict: 0.0\n",
      "       Else (feature 6 > 580.0)\n",
      "        Predict: 4.0\n",
      "     Else (feature 5 > 0.0)\n",
      "      If (feature 4 <= 7.0)\n",
      "       If (feature 2 <= 7.0)\n",
      "        Predict: 0.0\n",
      "       Else (feature 2 > 7.0)\n",
      "        Predict: 0.0\n",
      "      Else (feature 4 > 7.0)\n",
      "       If (feature 5 <= 2.0)\n",
      "        Predict: 0.0\n",
      "       Else (feature 5 > 2.0)\n",
      "        Predict: 1.0\n",
      "    Else (feature 3 > 608.0)\n",
      "     If (feature 7 <= 5.0)\n",
      "      If (feature 4 <= 37.0)\n",
      "       If (feature 7 <= 1.0)\n",
      "        Predict: 0.0\n",
      "       Else (feature 7 > 1.0)\n",
      "        Predict: 0.0\n",
      "      Else (feature 4 > 37.0)\n",
      "       If (feature 4 <= 39.0)\n",
      "        Predict: 1.0\n",
      "       Else (feature 4 > 39.0)\n",
      "        Predict: 0.0\n",
      "     Else (feature 7 > 5.0)\n",
      "      Predict: 1.0\n",
      "\n"
     ]
    }
   ],
   "source": [
    "print(model.toDebugString)"
   ]
  },
  {
   "cell_type": "code",
   "execution_count": 14,
   "metadata": {},
   "outputs": [
    {
     "data": {
      "text/plain": [
       "array([ 0.30868283,  0.00959885,  0.04865358,  0.14490841,  0.31974658,\n",
       "        0.03957876,  0.09262769,  0.03620331])"
      ]
     },
     "execution_count": 14,
     "metadata": {},
     "output_type": "execute_result"
    }
   ],
   "source": [
    "# Features Importances\n",
    "model.featureImportances.toArray()"
   ]
  },
  {
   "cell_type": "code",
   "execution_count": 15,
   "metadata": {},
   "outputs": [],
   "source": [
    "from pyspark.ml.tuning import ParamGridBuilder, TrainValidationSplit\n",
    "from pyspark.ml.evaluation import MulticlassClassificationEvaluator"
   ]
  },
  {
   "cell_type": "code",
   "execution_count": 16,
   "metadata": {},
   "outputs": [],
   "source": [
    "# Tuning\n",
    "evaluator = MulticlassClassificationEvaluator(predictionCol='prediction', labelCol='label', metricName='accuracy')"
   ]
  },
  {
   "cell_type": "code",
   "execution_count": 17,
   "metadata": {},
   "outputs": [
    {
     "data": {
      "text/plain": [
       "0.601416613007083"
      ]
     },
     "execution_count": 17,
     "metadata": {},
     "output_type": "execute_result"
    }
   ],
   "source": [
    "grid = ParamGridBuilder().addGrid(dt.maxDepth, [5, 21]).build()\n",
    "tvs = TrainValidationSplit(estimator=dt, estimatorParamMaps=grid, evaluator=evaluator, trainRatio=0.3)\n",
    "tvsModel = tvs.fit(train)\n",
    "evaluator.evaluate(tvsModel.transform(train))"
   ]
  },
  {
   "cell_type": "markdown",
   "metadata": {},
   "source": [
    "### 測試Model"
   ]
  },
  {
   "cell_type": "code",
   "execution_count": 20,
   "metadata": {},
   "outputs": [
    {
     "name": "stdout",
     "output_type": "stream",
     "text": [
      "Decision Tree Accuracy: 56.37450199203188 %\n"
     ]
    }
   ],
   "source": [
    "# Testing\n",
    "prediction = model.transform(test)\n",
    "metric = evaluator.evaluate(prediction)\n",
    "print('Decision Tree Accuracy:', metric * 100, '%')"
   ]
  },
  {
   "cell_type": "code",
   "execution_count": 1,
   "metadata": {},
   "outputs": [
    {
     "ename": "NameError",
     "evalue": "name 'evaluator' is not defined",
     "output_type": "error",
     "traceback": [
      "\u001b[0;31m---------------------------------------------------------------------------\u001b[0m",
      "\u001b[0;31mNameError\u001b[0m                                 Traceback (most recent call last)",
      "\u001b[0;32m<ipython-input-1-bd84394022ee>\u001b[0m in \u001b[0;36m<module>\u001b[0;34m()\u001b[0m\n\u001b[0;32m----> 1\u001b[0;31m \u001b[0mprint\u001b[0m\u001b[0;34m(\u001b[0m\u001b[0;34m'Tuned Decision Tree Accuracy:'\u001b[0m\u001b[0;34m,\u001b[0m \u001b[0mevaluator\u001b[0m\u001b[0;34m.\u001b[0m\u001b[0mevaluate\u001b[0m\u001b[0;34m(\u001b[0m\u001b[0mtvsModel\u001b[0m\u001b[0;34m.\u001b[0m\u001b[0mtransform\u001b[0m\u001b[0;34m(\u001b[0m\u001b[0mtest\u001b[0m\u001b[0;34m)\u001b[0m\u001b[0;34m)\u001b[0m \u001b[0;34m*\u001b[0m \u001b[0;36m100\u001b[0m\u001b[0;34m,\u001b[0m \u001b[0;34m'%'\u001b[0m\u001b[0;34m)\u001b[0m\u001b[0;34m\u001b[0m\u001b[0m\n\u001b[0m",
      "\u001b[0;31mNameError\u001b[0m: name 'evaluator' is not defined"
     ]
    }
   ],
   "source": [
    "print('Tuned Decision Tree Accuracy:', evaluator.evaluate(tvsModel.transform(test)) * 100, '%')"
   ]
  }
 ],
 "metadata": {
  "kernelspec": {
   "display_name": "Python 3",
   "language": "python",
   "name": "python3"
  },
  "language_info": {
   "codemirror_mode": {
    "name": "ipython",
    "version": 3
   },
   "file_extension": ".py",
   "mimetype": "text/x-python",
   "name": "python",
   "nbconvert_exporter": "python",
   "pygments_lexer": "ipython3",
   "version": "3.6.1"
  }
 },
 "nbformat": 4,
 "nbformat_minor": 2
}
